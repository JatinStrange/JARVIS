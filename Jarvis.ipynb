{
 "cells": [
  {
   "cell_type": "code",
   "execution_count": 1,
   "id": "3b0ea004",
   "metadata": {},
   "outputs": [
    {
     "name": "stdout",
     "output_type": "stream",
     "text": [
      "Requirement already satisfied: pyttsx3 in c:\\programdata\\anaconda31\\lib\\site-packages (2.90)\n",
      "Requirement already satisfied: pywin32 in c:\\programdata\\anaconda31\\lib\\site-packages (from pyttsx3) (227)\n",
      "Requirement already satisfied: comtypes in c:\\programdata\\anaconda31\\lib\\site-packages (from pyttsx3) (1.1.9)\n",
      "Requirement already satisfied: pypiwin32 in c:\\programdata\\anaconda31\\lib\\site-packages (from pyttsx3) (223)\n",
      "Note: you may need to restart the kernel to use updated packages.\n"
     ]
    }
   ],
   "source": [
    "pip install pyttsx3"
   ]
  },
  {
   "cell_type": "code",
   "execution_count": 2,
   "id": "fc9fd230",
   "metadata": {},
   "outputs": [
    {
     "name": "stdout",
     "output_type": "stream",
     "text": [
      "Requirement already satisfied: SpeechRecognition in c:\\programdata\\anaconda31\\lib\\site-packages (3.8.1)\n",
      "Note: you may need to restart the kernel to use updated packages.\n"
     ]
    }
   ],
   "source": [
    "pip install SpeechRecognition"
   ]
  },
  {
   "cell_type": "code",
   "execution_count": 3,
   "id": "6d30ffc0",
   "metadata": {},
   "outputs": [
    {
     "name": "stdout",
     "output_type": "stream",
     "text": [
      "Requirement already satisfied: pipwin in c:\\users\\jatin malhotra\\appdata\\roaming\\python\\python38\\site-packages (0.5.2)\n",
      "Requirement already satisfied: js2py in c:\\users\\jatin malhotra\\appdata\\roaming\\python\\python38\\site-packages (from pipwin) (0.71)\n",
      "Requirement already satisfied: beautifulsoup4>=4.9.0 in c:\\programdata\\anaconda31\\lib\\site-packages (from pipwin) (4.9.3)\n",
      "Requirement already satisfied: docopt in c:\\users\\jatin malhotra\\appdata\\roaming\\python\\python38\\site-packages (from pipwin) (0.6.2)\n",
      "Requirement already satisfied: packaging in c:\\programdata\\anaconda31\\lib\\site-packages (from pipwin) (20.9)\n",
      "Requirement already satisfied: requests in c:\\programdata\\anaconda31\\lib\\site-packages (from pipwin) (2.25.1)\n",
      "Requirement already satisfied: pySmartDL>=1.3.1 in c:\\users\\jatin malhotra\\appdata\\roaming\\python\\python38\\site-packages (from pipwin) (1.3.4)\n",
      "Requirement already satisfied: six in c:\\programdata\\anaconda31\\lib\\site-packages (from pipwin) (1.15.0)\n",
      "Requirement already satisfied: pyprind in c:\\users\\jatin malhotra\\appdata\\roaming\\python\\python38\\site-packages (from pipwin) (2.11.3)\n",
      "Requirement already satisfied: soupsieve>1.2 in c:\\programdata\\anaconda31\\lib\\site-packages (from beautifulsoup4>=4.9.0->pipwin) (2.2.1)\n",
      "Requirement already satisfied: pyjsparser>=2.5.1 in c:\\users\\jatin malhotra\\appdata\\roaming\\python\\python38\\site-packages (from js2py->pipwin) (2.7.1)\n",
      "Requirement already satisfied: tzlocal>=1.2 in c:\\users\\jatin malhotra\\appdata\\roaming\\python\\python38\\site-packages (from js2py->pipwin) (4.2)\n",
      "Requirement already satisfied: backports.zoneinfo in c:\\users\\jatin malhotra\\appdata\\roaming\\python\\python38\\site-packages (from tzlocal>=1.2->js2py->pipwin) (0.2.1)\n",
      "Requirement already satisfied: tzdata in c:\\programdata\\anaconda31\\lib\\site-packages (from tzlocal>=1.2->js2py->pipwin) (2022.1)\n",
      "Requirement already satisfied: pytz-deprecation-shim in c:\\users\\jatin malhotra\\appdata\\roaming\\python\\python38\\site-packages (from tzlocal>=1.2->js2py->pipwin) (0.1.0.post0)\n",
      "Requirement already satisfied: pyparsing>=2.0.2 in c:\\programdata\\anaconda31\\lib\\site-packages (from packaging->pipwin) (2.4.7)\n",
      "Requirement already satisfied: certifi>=2017.4.17 in c:\\programdata\\anaconda31\\lib\\site-packages (from requests->pipwin) (2020.12.5)\n",
      "Requirement already satisfied: idna<3,>=2.5 in c:\\programdata\\anaconda31\\lib\\site-packages (from requests->pipwin) (2.10)\n",
      "Requirement already satisfied: urllib3<1.27,>=1.21.1 in c:\\programdata\\anaconda31\\lib\\site-packages (from requests->pipwin) (1.26.4)\n",
      "Requirement already satisfied: chardet<5,>=3.0.2 in c:\\programdata\\anaconda31\\lib\\site-packages (from requests->pipwin) (4.0.0)\n",
      "Note: you may need to restart the kernel to use updated packages.\n"
     ]
    }
   ],
   "source": [
    "pip install pipwin --user"
   ]
  },
  {
   "cell_type": "markdown",
   "id": "08536fee",
   "metadata": {},
   "source": [
    "#conda install PyAudio"
   ]
  },
  {
   "cell_type": "code",
   "execution_count": 4,
   "id": "83230250",
   "metadata": {},
   "outputs": [
    {
     "name": "stdout",
     "output_type": "stream",
     "text": [
      "Requirement already satisfied: wikipedia in c:\\programdata\\anaconda31\\lib\\site-packages (1.4.0)\n",
      "Requirement already satisfied: beautifulsoup4 in c:\\programdata\\anaconda31\\lib\\site-packages (from wikipedia) (4.9.3)\n",
      "Requirement already satisfied: requests<3.0.0,>=2.0.0 in c:\\programdata\\anaconda31\\lib\\site-packages (from wikipedia) (2.25.1)\n",
      "Requirement already satisfied: chardet<5,>=3.0.2 in c:\\programdata\\anaconda31\\lib\\site-packages (from requests<3.0.0,>=2.0.0->wikipedia) (4.0.0)\n",
      "Requirement already satisfied: certifi>=2017.4.17 in c:\\programdata\\anaconda31\\lib\\site-packages (from requests<3.0.0,>=2.0.0->wikipedia) (2020.12.5)\n",
      "Requirement already satisfied: urllib3<1.27,>=1.21.1 in c:\\programdata\\anaconda31\\lib\\site-packages (from requests<3.0.0,>=2.0.0->wikipedia) (1.26.4)\n",
      "Requirement already satisfied: idna<3,>=2.5 in c:\\programdata\\anaconda31\\lib\\site-packages (from requests<3.0.0,>=2.0.0->wikipedia) (2.10)\n",
      "Requirement already satisfied: soupsieve>1.2 in c:\\programdata\\anaconda31\\lib\\site-packages (from beautifulsoup4->wikipedia) (2.2.1)\n",
      "Note: you may need to restart the kernel to use updated packages.\n"
     ]
    }
   ],
   "source": [
    "pip install wikipedia"
   ]
  },
  {
   "cell_type": "code",
   "execution_count": 5,
   "id": "80e3f7e5",
   "metadata": {},
   "outputs": [
    {
     "name": "stdout",
     "output_type": "stream",
     "text": [
      "Requirement already satisfied: pyautogui in c:\\programdata\\anaconda31\\lib\\site-packages (0.9.53)\n",
      "Requirement already satisfied: pyscreeze>=0.1.21 in c:\\programdata\\anaconda31\\lib\\site-packages (from pyautogui) (0.1.28)\n",
      "Requirement already satisfied: pygetwindow>=0.0.5 in c:\\programdata\\anaconda31\\lib\\site-packages (from pyautogui) (0.0.9)\n",
      "Requirement already satisfied: mouseinfo in c:\\programdata\\anaconda31\\lib\\site-packages (from pyautogui) (0.1.3)\n",
      "Requirement already satisfied: PyTweening>=1.0.1 in c:\\programdata\\anaconda31\\lib\\site-packages (from pyautogui) (1.0.4)\n",
      "Requirement already satisfied: pymsgbox in c:\\programdata\\anaconda31\\lib\\site-packages (from pyautogui) (1.0.9)\n",
      "Requirement already satisfied: pyrect in c:\\programdata\\anaconda31\\lib\\site-packages (from pygetwindow>=0.0.5->pyautogui) (0.2.0)\n",
      "Requirement already satisfied: Pillow>=6.2.1 in c:\\programdata\\anaconda31\\lib\\site-packages (from pyscreeze>=0.1.21->pyautogui) (8.2.0)\n",
      "Requirement already satisfied: pyperclip in c:\\programdata\\anaconda31\\lib\\site-packages (from mouseinfo->pyautogui) (1.8.2)\n",
      "Note: you may need to restart the kernel to use updated packages.\n"
     ]
    }
   ],
   "source": [
    "pip install pyautogui"
   ]
  },
  {
   "cell_type": "code",
   "execution_count": 6,
   "id": "2572a62c",
   "metadata": {},
   "outputs": [
    {
     "name": "stdout",
     "output_type": "stream",
     "text": [
      "Requirement already satisfied: psutil in c:\\programdata\\anaconda31\\lib\\site-packages (5.8.0)\n",
      "Note: you may need to restart the kernel to use updated packages.\n"
     ]
    }
   ],
   "source": [
    "pip install psutil"
   ]
  },
  {
   "cell_type": "code",
   "execution_count": 7,
   "id": "c1cc81fc",
   "metadata": {},
   "outputs": [
    {
     "name": "stdout",
     "output_type": "stream",
     "text": [
      "Requirement already satisfied: pyjokes in c:\\programdata\\anaconda31\\lib\\site-packages (0.6.0)\n",
      "Note: you may need to restart the kernel to use updated packages.\n"
     ]
    }
   ],
   "source": [
    "pip install pyjokes"
   ]
  },
  {
   "cell_type": "code",
   "execution_count": 8,
   "id": "66135930",
   "metadata": {},
   "outputs": [],
   "source": [
    "import pyttsx3\n",
    "import datetime\n",
    "import speech_recognition as sr\n",
    "import sys\n",
    "import wikipedia\n",
    "import smtplib\n",
    "import webbrowser as wb\n",
    "import os\n",
    "import pyautogui \n",
    "import psutil\n",
    "import pyjokes"
   ]
  },
  {
   "cell_type": "code",
   "execution_count": 9,
   "id": "d28ec324",
   "metadata": {},
   "outputs": [],
   "source": [
    "#Text to speech functinality\n",
    "engine = pyttsx3.init()"
   ]
  },
  {
   "cell_type": "code",
   "execution_count": 10,
   "id": "c92ce614",
   "metadata": {},
   "outputs": [],
   "source": [
    "engine.say(\"hello world\")"
   ]
  },
  {
   "cell_type": "code",
   "execution_count": 11,
   "id": "581ae755",
   "metadata": {},
   "outputs": [],
   "source": [
    "engine.runAndWait()"
   ]
  },
  {
   "cell_type": "code",
   "execution_count": 12,
   "id": "a0adc07c",
   "metadata": {},
   "outputs": [],
   "source": [
    "engine.say(\"This is Jarvis\")"
   ]
  },
  {
   "cell_type": "code",
   "execution_count": 13,
   "id": "da950236",
   "metadata": {},
   "outputs": [],
   "source": [
    "engine.runAndWait()"
   ]
  },
  {
   "cell_type": "code",
   "execution_count": 14,
   "id": "f25bd436",
   "metadata": {},
   "outputs": [],
   "source": [
    "# Speak Function \n",
    "def speak(audio):\n",
    "    engine.say(audio)\n",
    "    engine.runAndWait()    "
   ]
  },
  {
   "cell_type": "code",
   "execution_count": 15,
   "id": "5b4ec607",
   "metadata": {},
   "outputs": [],
   "source": [
    "#speak(\"This is JARVIS\")"
   ]
  },
  {
   "cell_type": "code",
   "execution_count": 16,
   "id": "61f4ba26",
   "metadata": {},
   "outputs": [],
   "source": [
    "voice = engine.getProperty('voices')"
   ]
  },
  {
   "cell_type": "code",
   "execution_count": 17,
   "id": "3e9b6a88",
   "metadata": {},
   "outputs": [
    {
     "data": {
      "text/plain": [
       "[<pyttsx3.voice.Voice at 0x1a540cd8820>,\n",
       " <pyttsx3.voice.Voice at 0x1a540cd8fa0>]"
      ]
     },
     "execution_count": 17,
     "metadata": {},
     "output_type": "execute_result"
    }
   ],
   "source": [
    "voice"
   ]
  },
  {
   "cell_type": "code",
   "execution_count": 18,
   "id": "bce726db",
   "metadata": {},
   "outputs": [],
   "source": [
    "engine.setProperty('voice',voice[1].id)"
   ]
  },
  {
   "cell_type": "code",
   "execution_count": 19,
   "id": "b985a48e",
   "metadata": {},
   "outputs": [],
   "source": [
    "#speak(\"This is JARVIS\")"
   ]
  },
  {
   "cell_type": "code",
   "execution_count": 20,
   "id": "7c4e9367",
   "metadata": {},
   "outputs": [],
   "source": [
    "newVoiceRate=150"
   ]
  },
  {
   "cell_type": "code",
   "execution_count": 21,
   "id": "da21f28e",
   "metadata": {},
   "outputs": [],
   "source": [
    "engine.setProperty('rate',newVoiceRate)"
   ]
  },
  {
   "cell_type": "code",
   "execution_count": 22,
   "id": "34790752",
   "metadata": {},
   "outputs": [],
   "source": [
    "speak(\"Hello! This is Jarvis\")"
   ]
  },
  {
   "cell_type": "code",
   "execution_count": 23,
   "id": "d3535cdc",
   "metadata": {},
   "outputs": [],
   "source": [
    "# Function for current time\n",
    "def time():\n",
    "    Time = datetime.datetime.now().strftime(\"%I:%M:%S\")\n",
    "    speak(\"The Current time is \")\n",
    "    speak(Time)"
   ]
  },
  {
   "cell_type": "code",
   "execution_count": 24,
   "id": "50010ae7",
   "metadata": {},
   "outputs": [],
   "source": [
    "# Function for current date\n",
    "def date():\n",
    "    year = int(datetime.datetime.now().year)\n",
    "    month = int(datetime.datetime.now().month)\n",
    "    day = int(datetime.datetime.now().day)\n",
    "    speak(\"The Current date is \")\n",
    "    speak(day)\n",
    "    speak(month)\n",
    "    speak(year)"
   ]
  },
  {
   "cell_type": "code",
   "execution_count": 25,
   "id": "a04c803f",
   "metadata": {},
   "outputs": [],
   "source": [
    "def wishme():\n",
    "    speak(\"Welcome back sir!\")\n",
    "    hour = datetime.datetime.now().hour\n",
    "    if hour >= 6 and hour <=12:\n",
    "        speak(\"Good Morning Sir\")\n",
    "    elif hour >=12 and hour <= 16:\n",
    "        speak(\"Good Afternoon Sir\")\n",
    "    elif hour >=17 and hour <20:\n",
    "        speak(\"Good Evening Sir\")\n",
    "    else:\n",
    "        speak(\"Good Night Sir\")\n",
    "    time()\n",
    "    date()\n",
    "    speak(\"Jarvis at your service. How can I help you?\")"
   ]
  },
  {
   "cell_type": "code",
   "execution_count": 26,
   "id": "37b4e5f3",
   "metadata": {},
   "outputs": [],
   "source": [
    "def takeCommand():\n",
    "    r=sr.Recognizer()\n",
    "    with sr.Microphone() as source:\n",
    "        print(\"Listening...\")\n",
    "        r.pause_threshold=1\n",
    "        audio = r.listen(source)\n",
    "    try:\n",
    "        print(\"Recognnizing...\")\n",
    "        query = r.recognize_google(audio, language = \"en-IN\")\n",
    "        print(query)\n",
    "    except Exception as e:\n",
    "        print(e)\n",
    "        speak(\"Say that again please...\")\n",
    "        return \"None\"\n",
    "    return query"
   ]
  },
  {
   "cell_type": "code",
   "execution_count": 27,
   "id": "32e6c415",
   "metadata": {},
   "outputs": [],
   "source": [
    "def sendmail(to, content):\n",
    "    server = smtplib.SMTP('smtp.gmail.com',587)\n",
    "    server.ehlo()\n",
    "    server.starttls\n",
    "    server.login(\"test@gmail.com\",\"Hi1234\")\n",
    "    server.sendmail(\"test@gmail.com\",to,content)\n",
    "    server.close()"
   ]
  },
  {
   "cell_type": "code",
   "execution_count": 28,
   "id": "8c94db72",
   "metadata": {},
   "outputs": [],
   "source": [
    "def screenshot():\n",
    "    img = pyautogui.screenshot()\n",
    "    img.save(\"D:\\Screenshots\\ss.png\")"
   ]
  },
  {
   "cell_type": "code",
   "execution_count": 29,
   "id": "0a2b9d32",
   "metadata": {},
   "outputs": [],
   "source": [
    "def cpu():\n",
    "    usage = str(psutil.cpu_percent())\n",
    "    speak(\"CPU is at \" + usage)\n",
    "    battery = psutil.sensors_battery()\n",
    "    speak(\"Battery is at\")\n",
    "    speak(battery.percent)"
   ]
  },
  {
   "cell_type": "code",
   "execution_count": 30,
   "id": "2bcc0bff",
   "metadata": {},
   "outputs": [],
   "source": [
    "def jokes():\n",
    "    speak(pyjokes.get_joke())"
   ]
  },
  {
   "cell_type": "code",
   "execution_count": 31,
   "id": "f6464e29",
   "metadata": {},
   "outputs": [
    {
     "name": "stdout",
     "output_type": "stream",
     "text": [
      "Listening...\n",
      "Recognnizing...\n",
      "take a screenshot\n",
      "take a screenshot\n",
      "Listening...\n",
      "Recognnizing...\n",
      "tell me a joke\n",
      "tell me a joke\n",
      "Listening...\n",
      "Recognnizing...\n",
      "play a song\n",
      "play a song\n",
      "Listening...\n",
      "Recognnizing...\n",
      "\n",
      "none\n",
      "Listening...\n",
      "Recognnizing...\n",
      "remember that remember that\n",
      "remember that remember that\n",
      "Listening...\n",
      "Recognnizing...\n",
      "Python is the best\n",
      "Listening...\n",
      "Recognnizing...\n",
      "offline\n",
      "offline\n"
     ]
    },
    {
     "ename": "SystemExit",
     "evalue": "",
     "output_type": "error",
     "traceback": [
      "An exception has occurred, use %tb to see the full traceback.\n",
      "\u001b[1;31mSystemExit\u001b[0m\n"
     ]
    },
    {
     "name": "stderr",
     "output_type": "stream",
     "text": [
      "C:\\ProgramData\\Anaconda31\\lib\\site-packages\\IPython\\core\\interactiveshell.py:3445: UserWarning: To exit: use 'exit', 'quit', or Ctrl-D.\n",
      "  warn(\"To exit: use 'exit', 'quit', or Ctrl-D.\", stacklevel=1)\n"
     ]
    }
   ],
   "source": [
    "if __name__ == \"__main__\":\n",
    "    wishme()\n",
    "    while True:\n",
    "        query = takeCommand().lower()\n",
    "        print(query)\n",
    "        if \"time\" in query:\n",
    "            time()\n",
    "        elif \"date\" in query:\n",
    "            date()\n",
    "        elif \"offline\" in query:\n",
    "            sys.exit()\n",
    "        elif \"wikipedia\" in query:\n",
    "            speak(\"Searching...\")\n",
    "            query = query.replace(\"wikipedia\",\"\")\n",
    "            result = wikipedia.summary(query,sentences=2)\n",
    "            speak(result)\n",
    "        elif \"send email\" in query:\n",
    "            try: \n",
    "                speak(\"What should I say?\")\n",
    "                content = takeCommand()\n",
    "                to = \"025016@fsm.ac.in\"\n",
    "                sendmail(to, content)\n",
    "                speak(\"The mail was send successfully\")\n",
    "            except Exception as e:\n",
    "                speak(e)\n",
    "                speak(\"Unabel to send the message\")\n",
    "        \n",
    "        elif \"search in chrome\" in query:\n",
    "            speak(\"What should I search?\")\n",
    "            chromepath = \"C:\\Program Files (x86)\\Microsoft\\Edge\\Application\\msedge.exe %s\"\n",
    "            search = takeCommand().lower()\n",
    "            wb.get(chromepath).open_new_tab(search + \".com\")\n",
    "        elif \"log out\" in query:\n",
    "            os.system(\"shutdown - l\")\n",
    "        elif \"shutdown\" in query:\n",
    "            os.system(\"shutdown /s /t 1\")\n",
    "        elif \"restart\" in query:\n",
    "            os.system(\"shutdown /r /r 1\")\n",
    "        elif \"play a song\" in query:\n",
    "            songs_dir = \"D:\\Songs\"\n",
    "            songs = os.listdir(songs_dir)\n",
    "            os.startfile(os.path.join(songs_dir,songs[0]))\n",
    "        elif \"remember that\" in query:\n",
    "            speak(\"What should I remember?\")\n",
    "            data = takeCommand()\n",
    "            speak(\"you said me to remember\" + data)\n",
    "            remember = open(\"data.txt\",\"w\")\n",
    "            remember.write(data)\n",
    "            remember.close()\n",
    "        elif \"do you know anything\" in query:\n",
    "            remember = open(\"data.txt\",\"r\")\n",
    "            speak(\"You said me to remember that \" + remember.read())\n",
    "        elif \"screenshot\" in query:\n",
    "            screenshot()\n",
    "            speak(\"Done\")\n",
    "        elif \"cpu\" in query:\n",
    "            cpu()\n",
    "        elif \"joke\" in query:\n",
    "            jokes()"
   ]
  },
  {
   "cell_type": "code",
   "execution_count": null,
   "id": "aa4496a4",
   "metadata": {},
   "outputs": [],
   "source": []
  },
  {
   "cell_type": "code",
   "execution_count": null,
   "id": "ecfb10d3",
   "metadata": {},
   "outputs": [],
   "source": []
  }
 ],
 "metadata": {
  "kernelspec": {
   "display_name": "Python 3",
   "language": "python",
   "name": "python3"
  },
  "language_info": {
   "codemirror_mode": {
    "name": "ipython",
    "version": 3
   },
   "file_extension": ".py",
   "mimetype": "text/x-python",
   "name": "python",
   "nbconvert_exporter": "python",
   "pygments_lexer": "ipython3",
   "version": "3.8.8"
  }
 },
 "nbformat": 4,
 "nbformat_minor": 5
}
